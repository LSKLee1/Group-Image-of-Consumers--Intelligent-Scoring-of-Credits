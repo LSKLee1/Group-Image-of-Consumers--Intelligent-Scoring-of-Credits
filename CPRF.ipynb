{
 "cells": [
  {
   "cell_type": "code",
   "execution_count": 1,
   "metadata": {},
   "outputs": [
    {
     "name": "stdout",
     "output_type": "stream",
     "text": [
      "--------------------------------------------------train简单查看统计学信息--------------------------------------------------\n",
      "<class 'pandas.core.frame.DataFrame'>\n",
      "RangeIndex: 50000 entries, 0 to 49999\n",
      "Data columns (total 30 columns):\n",
      "用户编码               50000 non-null object\n",
      "用户实名制是否通过核实        50000 non-null int64\n",
      "用户年龄               50000 non-null int64\n",
      "是否大学生客户            50000 non-null int64\n",
      "是否黑名单客户            50000 non-null int64\n",
      "是否4G不健康客户          50000 non-null int64\n",
      "用户网龄（月）            50000 non-null int64\n",
      "用户最近一次缴费距今时长（月）    50000 non-null int64\n",
      "缴费用户最近一次缴费金额（元）    50000 non-null float64\n",
      "用户近6个月平均消费值（元）     50000 non-null float64\n",
      "用户账单当月总费用（元）       50000 non-null float64\n",
      "用户当月账户余额（元）        50000 non-null int64\n",
      "缴费用户当前是否欠费缴费       50000 non-null int64\n",
      "用户话费敏感度            50000 non-null int64\n",
      "当月通话交往圈人数          50000 non-null int64\n",
      "是否经常逛商场的人          50000 non-null int64\n",
      "近三个月月均商场出现次数       50000 non-null int64\n",
      "当月是否逛过福州仓山万达       50000 non-null int64\n",
      "当月是否到过福州山姆会员店      50000 non-null int64\n",
      "当月是否看电影            50000 non-null int64\n",
      "当月是否景点游览           50000 non-null int64\n",
      "当月是否体育场馆消费         50000 non-null int64\n",
      "当月网购类应用使用次数        50000 non-null int64\n",
      "当月物流快递类应用使用次数      50000 non-null int64\n",
      "当月金融理财类应用使用总次数     50000 non-null int64\n",
      "当月视频播放类应用使用次数      50000 non-null int64\n",
      "当月飞机类应用使用次数        50000 non-null int64\n",
      "当月火车类应用使用次数        50000 non-null int64\n",
      "当月旅游资讯类应用使用次数      50000 non-null int64\n",
      "信用分                50000 non-null int64\n",
      "dtypes: float64(3), int64(26), object(1)\n",
      "memory usage: 11.4+ MB\n",
      "None\n",
      "--------------------------------------------------test简单查看统计学信息--------------------------------------------------\n",
      "<class 'pandas.core.frame.DataFrame'>\n",
      "RangeIndex: 50000 entries, 0 to 49999\n",
      "Data columns (total 28 columns):\n",
      "用户实名制是否通过核实        50000 non-null int64\n",
      "用户年龄               50000 non-null int64\n",
      "是否大学生客户            50000 non-null int64\n",
      "是否黑名单客户            50000 non-null int64\n",
      "是否4G不健康客户          50000 non-null int64\n",
      "用户网龄（月）            50000 non-null int64\n",
      "用户最近一次缴费距今时长（月）    50000 non-null int64\n",
      "缴费用户最近一次缴费金额（元）    50000 non-null float64\n",
      "用户近6个月平均消费值（元）     50000 non-null float64\n",
      "用户账单当月总费用（元）       50000 non-null float64\n",
      "用户当月账户余额（元）        50000 non-null int64\n",
      "缴费用户当前是否欠费缴费       50000 non-null int64\n",
      "用户话费敏感度            50000 non-null int64\n",
      "当月通话交往圈人数          50000 non-null int64\n",
      "是否经常逛商场的人          50000 non-null int64\n",
      "近三个月月均商场出现次数       50000 non-null int64\n",
      "当月是否逛过福州仓山万达       50000 non-null int64\n",
      "当月是否到过福州山姆会员店      50000 non-null int64\n",
      "当月是否看电影            50000 non-null int64\n",
      "当月是否景点游览           50000 non-null int64\n",
      "当月是否体育场馆消费         50000 non-null int64\n",
      "当月网购类应用使用次数        50000 non-null int64\n",
      "当月物流快递类应用使用次数      50000 non-null int64\n",
      "当月金融理财类应用使用总次数     50000 non-null int64\n",
      "当月视频播放类应用使用次数      50000 non-null int64\n",
      "当月飞机类应用使用次数        50000 non-null int64\n",
      "当月火车类应用使用次数        50000 non-null int64\n",
      "当月旅游资讯类应用使用次数      50000 non-null int64\n",
      "dtypes: float64(3), int64(25)\n",
      "memory usage: 10.7 MB\n",
      "None\n",
      "--------------------------------------------------train查看缺失值--------------------------------------------------\n",
      "信用分                0\n",
      "当月旅游资讯类应用使用次数      0\n",
      "用户实名制是否通过核实        0\n",
      "用户年龄               0\n",
      "是否大学生客户            0\n",
      "是否黑名单客户            0\n",
      "是否4G不健康客户          0\n",
      "用户网龄（月）            0\n",
      "用户最近一次缴费距今时长（月）    0\n",
      "缴费用户最近一次缴费金额（元）    0\n",
      "dtype: int64\n",
      "--------------------------------------------------test查看缺失值--------------------------------------------------\n",
      "当月旅游资讯类应用使用次数      0\n",
      "当月火车类应用使用次数        0\n",
      "用户年龄               0\n",
      "是否大学生客户            0\n",
      "是否黑名单客户            0\n",
      "是否4G不健康客户          0\n",
      "用户网龄（月）            0\n",
      "用户最近一次缴费距今时长（月）    0\n",
      "缴费用户最近一次缴费金额（元）    0\n",
      "用户近6个月平均消费值（元）     0\n",
      "dtype: int64\n"
     ]
    }
   ],
   "source": [
    "import numpy as np\n",
    "import pandas as pd\n",
    "# import seaborn as sns\n",
    "# import matplotlib.pyplot as plt\n",
    "import warnings\n",
    "warnings.filterwarnings(\"ignore\")\n",
    "\n",
    "consumerTrain = pd.read_csv(\"train_dataset.csv\")\n",
    "consumerTest = pd.read_csv(\"test_dataset.csv\")\n",
    "\n",
    "Id = consumerTest[\"用户编码\"]\n",
    "consumerTest = consumerTest.drop([\"用户编码\"],axis=1)\n",
    "\n",
    "\n",
    "# 感觉他妈这个比赛对我们太tm好了，竟然一个缺省值都没有，要哭了\n",
    "print(\"-\"*50+ \"train简单查看统计学信息\" +\"-\"*50)\n",
    "print(consumerTrain.info())\n",
    "print(\"-\"*50+ \"test简单查看统计学信息\" +\"-\"*50)\n",
    "print(consumerTest.info())\n",
    "\n",
    "print(\"-\"*50 + \"train查看缺失值\" + \"-\"*50)\n",
    "print(consumerTrain.isnull().sum().sort_values(ascending=False).head(10))\n",
    "print(\"-\"*50 + \"test查看缺失值\" + \"-\"*50)\n",
    "print(consumerTest.isnull().sum().sort_values(ascending=False).head(10))\n"
   ]
  },
  {
   "cell_type": "code",
   "execution_count": 2,
   "metadata": {},
   "outputs": [],
   "source": [
    "consumerTrain[\"次数\"] = consumerTrain[\"当月网购类应用使用次数\"]+consumerTrain[\"当月物流快递类应用使用次数\"]+consumerTrain[\"当月金融理财类应用使用总次数\"]+consumerTrain[\"当月视频播放类应用使用次数\"]+consumerTrain[\"当月飞机类应用使用次数\"]+consumerTrain[\"当月火车类应用使用次数\"]+consumerTrain[\"当月旅游资讯类应用使用次数\"]\n",
    "consumerTest[\"次数\"] = consumerTest[\"当月网购类应用使用次数\"]+consumerTest[\"当月物流快递类应用使用次数\"]+consumerTest[\"当月金融理财类应用使用总次数\"]+consumerTest[\"当月视频播放类应用使用次数\"]+consumerTest[\"当月飞机类应用使用次数\"]+consumerTest[\"当月火车类应用使用次数\"]+consumerTest[\"当月旅游资讯类应用使用次数\"]\n",
    "            \n",
    "consumerTrain[\"火车飞机类应用使用次数\"] = consumerTrain[\"当月飞机类应用使用次数\"]+consumerTrain[\"当月火车类应用使用次数\"]\n",
    "consumerTest[\"火车飞机类应用使用次数\"] = consumerTest[\"当月飞机类应用使用次数\"]+consumerTest[\"当月火车类应用使用次数\"]\n",
    "\n",
    "consumerTrain[\"是否不良\"] = consumerTrain[\"是否黑名单客户\"]+consumerTrain[\"是否4G不健康客户\"]\n",
    "consumerTest[\"是否不良\"] = consumerTest[\"是否黑名单客户\"]+consumerTest[\"是否4G不健康客户\"]\n",
    "\n",
    "consumerTrain[\"是否不良\"][consumerTrain[\"是否不良\"]>1] = 1\n",
    "consumerTest[\"是否不良\"][consumerTest[\"是否不良\"]>1] = 1"
   ]
  },
  {
   "cell_type": "code",
   "execution_count": 3,
   "metadata": {},
   "outputs": [],
   "source": [
    "def simple_features(df_data):\n",
    "    df = df_data\n",
    "    df[\"次数\"] = df[\"当月网购类应用使用次数\"]+df[\"当月物流快递类应用使用次数\"]+df[\"当月金融理财类应用使用总次数\"]+df[\"当月视频播放类应用使用次数\"]+df[\"当月飞机类应用使用次数\"]+df[\"当月火车类应用使用次数\"]+df[\"当月旅游资讯类应用使用次数\"]\n",
    "\n",
    "    df[\"火车飞机类应用使用次数\"] = df[\"当月飞机类应用使用次数\"]+df[\"当月火车类应用使用次数\"]\n",
    "\n",
    "    df[\"是否不良\"] = df[\"是否黑名单客户\"]+df[\"是否4G不健康客户\"]\n",
    "\n",
    "    df[\"是否不良\"][df[\"是否不良\"]>1] = 1\n",
    "    \n",
    "    for col in ['当月金融理财类应用使用总次数','当月旅游资讯类应用使用次数']: # 这两个比较积极向上一点\n",
    "        df[col + '百分比'] = df[col].values / df['次数'].values \n",
    "    \n",
    "    \n",
    "    df['当月通话人均话费'] = df['用户账单当月总费用（元）'].values / (df['当月通话交往圈人数'].values + 1)\n",
    "    df['上个月费用'] = df['用户当月账户余额（元）'].values + df['用户账单当月总费用（元）'].values\n",
    "     \n",
    "    df['用户上网年龄'] = df['用户年龄'] - df['用户网龄（月）']\n",
    "    df['用户上网年龄百分比'] = df['用户网龄（月）'] / (df['用户年龄'] + 1)\n",
    "     \n",
    "    df['近似总消费'] = df['用户近6个月平均消费值（元）'] / 6 * df['用户网龄（月）']\n",
    "    \n",
    "    df = df.fillna(0)\n",
    "    return df\n",
    "    "
   ]
  },
  {
   "cell_type": "code",
   "execution_count": 4,
   "metadata": {},
   "outputs": [],
   "source": [
    "consumerTrain = simple_features(consumerTrain)\n",
    "consumerTest = simple_features(consumerTest)\n"
   ]
  },
  {
   "cell_type": "code",
   "execution_count": 5,
   "metadata": {},
   "outputs": [],
   "source": [
    "from lightgbm import LGBMRegressor \n"
   ]
  },
  {
   "cell_type": "code",
   "execution_count": 6,
   "metadata": {},
   "outputs": [],
   "source": [
    "from xgboost import XGBRegressor\n",
    "from sklearn.model_selection import train_test_split\n",
    "from sklearn.ensemble import RandomForestRegressor\n",
    "from sklearn import model_selection\n",
    "\n",
    "x = consumerTrain.drop([\"信用分\",\"用户编码\"],axis=1)\n",
    "y = consumerTrain.信用分\n",
    "x_train,x_test, y_train,y_test = train_test_split(x,y,test_size=0.2, random_state=10)\n"
   ]
  },
  {
   "cell_type": "code",
   "execution_count": 7,
   "metadata": {},
   "outputs": [],
   "source": [
    "#  RandomForestRegressor(n_estimators=1000, warm_start=True, max_features='sqrt',max_depth=6,\n",
    "#                             min_samples_split=3, min_samples_leaf=2, n_jobs=-1, verbose=0)"
   ]
  },
  {
   "cell_type": "code",
   "execution_count": 11,
   "metadata": {},
   "outputs": [
    {
     "name": "stdout",
     "output_type": "stream",
     "text": [
      "fitting\n",
      "Fitting 2 folds for each of 1 candidates, totalling 2 fits\n"
     ]
    },
    {
     "name": "stderr",
     "output_type": "stream",
     "text": [
      "[Parallel(n_jobs=-1)]: Using backend LokyBackend with 8 concurrent workers.\n",
      "[Parallel(n_jobs=-1)]: Done   2 out of   2 | elapsed:  2.0min remaining:    0.0s\n",
      "[Parallel(n_jobs=-1)]: Done   2 out of   2 | elapsed:  2.0min finished\n"
     ]
    },
    {
     "name": "stdout",
     "output_type": "stream",
     "text": [
      "BestParams: {'max_depth': 9, 'max_features': 0.6, 'min_samples_leaf': 5, 'n_estimators': 3000, 'n_jobs': -1, 'oob_score': True, 'verbose': 0}\n",
      "Training:\n",
      "Training Finished\n"
     ]
    }
   ],
   "source": [
    "clf_est =RandomForestRegressor(random_state=11)\n",
    "\n",
    "clf_param_grid = {'n_estimators': [1000],\n",
    "                 'max_features':[0.6],\n",
    "                 'max_depth':[9],\n",
    "                  'min_samples_leaf':[5],\n",
    "                  'verbose':[0],\n",
    "                  'oob_score':[True],\n",
    "                  'n_jobs':[-1]\n",
    "                 }\n",
    "\n",
    "clf_grid = model_selection.GridSearchCV(clf_est, clf_param_grid, n_jobs=-1, cv=2, verbose=0)\n",
    "print(\"fitting\")\n",
    "clf_grid.fit(x_train, y_train)\n",
    "\n",
    "print('BestParams: ' + str(clf_grid.best_params_))\n",
    "print('Training:')\n",
    "%timeit\n",
    "clf = RandomForestRegressor(n_estimators = clf_grid.best_estimator_.n_estimators,\n",
    "                    max_features=clf_grid.best_estimator_.max_features,\n",
    "                    max_depth = clf_grid.best_estimator_.max_depth,\n",
    "                    min_samples_leaf = clf_grid.best_estimator_.min_samples_leaf,\n",
    "                    verbose = clf_grid.best_estimator_.verbose,\n",
    "                    oob_score = True,\n",
    "                    n_jobs = -1,\n",
    "                   random_state=11)\n",
    "\n",
    "clf.fit(x_train, y_train)\n",
    "print('Training Finished')"
   ]
  },
  {
   "cell_type": "code",
   "execution_count": 12,
   "metadata": {},
   "outputs": [
    {
     "name": "stdout",
     "output_type": "stream",
     "text": [
      "I LOVE YOUU\n",
      "评分：\n",
      "RF:  0.7666028283033747\n",
      "409.1817999656928\n"
     ]
    }
   ],
   "source": [
    "\n",
    "predictions = clf.predict(consumerTest.astype(int))\n",
    "Submission = pd.DataFrame({'id': Id, \n",
    "                           'score': predictions})\n",
    "Submission[\"score\"] = Submission[\"score\"].astype(int)\n",
    "Submission.to_csv('SubmissionRF.csv',index=False,sep=',')\n",
    "print(\"I LOVE YOUU\")\n",
    "\n",
    "print(\"评分：\")\n",
    "from sklearn.model_selection import cross_val_score\n",
    "\n",
    "scores = cross_val_score(clf,x_test,y_test)\n",
    "print(\"RF: \",scores.mean())\n",
    "from sklearn import metrics\n",
    "\n",
    "y_pred_xgb = clf.predict(x_test)\n",
    "# 均方根误差\n",
    "MSE = metrics.mean_squared_error(y_test,y_pred_xgb)\n",
    "print(MSE)"
   ]
  },
  {
   "cell_type": "code",
   "execution_count": 13,
   "metadata": {},
   "outputs": [
    {
     "name": "stdout",
     "output_type": "stream",
     "text": [
      "0.0024379433706801204\n"
     ]
    }
   ],
   "source": [
    "print(1/(1+MSE))"
   ]
  },
  {
   "cell_type": "code",
   "execution_count": null,
   "metadata": {},
   "outputs": [],
   "source": []
  },
  {
   "cell_type": "code",
   "execution_count": null,
   "metadata": {},
   "outputs": [],
   "source": []
  },
  {
   "cell_type": "code",
   "execution_count": null,
   "metadata": {},
   "outputs": [],
   "source": []
  },
  {
   "cell_type": "code",
   "execution_count": null,
   "metadata": {},
   "outputs": [],
   "source": []
  },
  {
   "cell_type": "code",
   "execution_count": null,
   "metadata": {},
   "outputs": [],
   "source": []
  },
  {
   "cell_type": "code",
   "execution_count": null,
   "metadata": {},
   "outputs": [],
   "source": []
  },
  {
   "cell_type": "code",
   "execution_count": null,
   "metadata": {},
   "outputs": [],
   "source": []
  },
  {
   "cell_type": "code",
   "execution_count": null,
   "metadata": {},
   "outputs": [],
   "source": []
  },
  {
   "cell_type": "code",
   "execution_count": null,
   "metadata": {},
   "outputs": [],
   "source": []
  },
  {
   "cell_type": "code",
   "execution_count": null,
   "metadata": {},
   "outputs": [],
   "source": []
  }
 ],
 "metadata": {
  "kernelspec": {
   "display_name": "Python 3",
   "language": "python",
   "name": "python3"
  },
  "language_info": {
   "codemirror_mode": {
    "name": "ipython",
    "version": 3
   },
   "file_extension": ".py",
   "mimetype": "text/x-python",
   "name": "python",
   "nbconvert_exporter": "python",
   "pygments_lexer": "ipython3",
   "version": "3.6.3"
  }
 },
 "nbformat": 4,
 "nbformat_minor": 2
}
