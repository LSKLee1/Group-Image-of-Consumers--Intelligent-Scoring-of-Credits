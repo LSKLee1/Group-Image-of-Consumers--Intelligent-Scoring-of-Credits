{
 "cells": [
  {
   "cell_type": "code",
   "execution_count": 1,
   "metadata": {},
   "outputs": [
    {
     "name": "stdout",
     "output_type": "stream",
     "text": [
      "--------------------------------------------------train简单查看统计学信息--------------------------------------------------\n",
      "<class 'pandas.core.frame.DataFrame'>\n",
      "RangeIndex: 50000 entries, 0 to 49999\n",
      "Data columns (total 30 columns):\n",
      "用户编码               50000 non-null object\n",
      "用户实名制是否通过核实        50000 non-null int64\n",
      "用户年龄               50000 non-null int64\n",
      "是否大学生客户            50000 non-null int64\n",
      "是否黑名单客户            50000 non-null int64\n",
      "是否4G不健康客户          50000 non-null int64\n",
      "用户网龄（月）            50000 non-null int64\n",
      "用户最近一次缴费距今时长（月）    50000 non-null int64\n",
      "缴费用户最近一次缴费金额（元）    50000 non-null float64\n",
      "用户近6个月平均消费值（元）     50000 non-null float64\n",
      "用户账单当月总费用（元）       50000 non-null float64\n",
      "用户当月账户余额（元）        50000 non-null int64\n",
      "缴费用户当前是否欠费缴费       50000 non-null int64\n",
      "用户话费敏感度            50000 non-null int64\n",
      "当月通话交往圈人数          50000 non-null int64\n",
      "是否经常逛商场的人          50000 non-null int64\n",
      "近三个月月均商场出现次数       50000 non-null int64\n",
      "当月是否逛过福州仓山万达       50000 non-null int64\n",
      "当月是否到过福州山姆会员店      50000 non-null int64\n",
      "当月是否看电影            50000 non-null int64\n",
      "当月是否景点游览           50000 non-null int64\n",
      "当月是否体育场馆消费         50000 non-null int64\n",
      "当月网购类应用使用次数        50000 non-null int64\n",
      "当月物流快递类应用使用次数      50000 non-null int64\n",
      "当月金融理财类应用使用总次数     50000 non-null int64\n",
      "当月视频播放类应用使用次数      50000 non-null int64\n",
      "当月飞机类应用使用次数        50000 non-null int64\n",
      "当月火车类应用使用次数        50000 non-null int64\n",
      "当月旅游资讯类应用使用次数      50000 non-null int64\n",
      "信用分                50000 non-null int64\n",
      "dtypes: float64(3), int64(26), object(1)\n",
      "memory usage: 11.4+ MB\n",
      "None\n",
      "--------------------------------------------------test简单查看统计学信息--------------------------------------------------\n",
      "<class 'pandas.core.frame.DataFrame'>\n",
      "RangeIndex: 50000 entries, 0 to 49999\n",
      "Data columns (total 28 columns):\n",
      "用户实名制是否通过核实        50000 non-null int64\n",
      "用户年龄               50000 non-null int64\n",
      "是否大学生客户            50000 non-null int64\n",
      "是否黑名单客户            50000 non-null int64\n",
      "是否4G不健康客户          50000 non-null int64\n",
      "用户网龄（月）            50000 non-null int64\n",
      "用户最近一次缴费距今时长（月）    50000 non-null int64\n",
      "缴费用户最近一次缴费金额（元）    50000 non-null float64\n",
      "用户近6个月平均消费值（元）     50000 non-null float64\n",
      "用户账单当月总费用（元）       50000 non-null float64\n",
      "用户当月账户余额（元）        50000 non-null int64\n",
      "缴费用户当前是否欠费缴费       50000 non-null int64\n",
      "用户话费敏感度            50000 non-null int64\n",
      "当月通话交往圈人数          50000 non-null int64\n",
      "是否经常逛商场的人          50000 non-null int64\n",
      "近三个月月均商场出现次数       50000 non-null int64\n",
      "当月是否逛过福州仓山万达       50000 non-null int64\n",
      "当月是否到过福州山姆会员店      50000 non-null int64\n",
      "当月是否看电影            50000 non-null int64\n",
      "当月是否景点游览           50000 non-null int64\n",
      "当月是否体育场馆消费         50000 non-null int64\n",
      "当月网购类应用使用次数        50000 non-null int64\n",
      "当月物流快递类应用使用次数      50000 non-null int64\n",
      "当月金融理财类应用使用总次数     50000 non-null int64\n",
      "当月视频播放类应用使用次数      50000 non-null int64\n",
      "当月飞机类应用使用次数        50000 non-null int64\n",
      "当月火车类应用使用次数        50000 non-null int64\n",
      "当月旅游资讯类应用使用次数      50000 non-null int64\n",
      "dtypes: float64(3), int64(25)\n",
      "memory usage: 10.7 MB\n",
      "None\n",
      "--------------------------------------------------train查看缺失值--------------------------------------------------\n",
      "信用分                0\n",
      "当月旅游资讯类应用使用次数      0\n",
      "用户实名制是否通过核实        0\n",
      "用户年龄               0\n",
      "是否大学生客户            0\n",
      "是否黑名单客户            0\n",
      "是否4G不健康客户          0\n",
      "用户网龄（月）            0\n",
      "用户最近一次缴费距今时长（月）    0\n",
      "缴费用户最近一次缴费金额（元）    0\n",
      "dtype: int64\n",
      "--------------------------------------------------test查看缺失值--------------------------------------------------\n",
      "当月旅游资讯类应用使用次数      0\n",
      "当月火车类应用使用次数        0\n",
      "用户年龄               0\n",
      "是否大学生客户            0\n",
      "是否黑名单客户            0\n",
      "是否4G不健康客户          0\n",
      "用户网龄（月）            0\n",
      "用户最近一次缴费距今时长（月）    0\n",
      "缴费用户最近一次缴费金额（元）    0\n",
      "用户近6个月平均消费值（元）     0\n",
      "dtype: int64\n"
     ]
    }
   ],
   "source": [
    "import numpy as np\n",
    "import pandas as pd\n",
    "# import seaborn as sns\n",
    "# import matplotlib.pyplot as plt\n",
    "import warnings\n",
    "warnings.filterwarnings(\"ignore\")\n",
    "\n",
    "consumerTrain = pd.read_csv(\"train_dataset.csv\")\n",
    "consumerTest = pd.read_csv(\"test_dataset.csv\")\n",
    "\n",
    "Id = consumerTest[\"用户编码\"]\n",
    "consumerTest = consumerTest.drop([\"用户编码\"],axis=1)\n",
    "\n",
    "\n",
    "# 感觉他妈这个比赛对我们太tm好了，竟然一个缺省值都没有，要哭了\n",
    "print(\"-\"*50+ \"train简单查看统计学信息\" +\"-\"*50)\n",
    "print(consumerTrain.info())\n",
    "print(\"-\"*50+ \"test简单查看统计学信息\" +\"-\"*50)\n",
    "print(consumerTest.info())\n",
    "\n",
    "print(\"-\"*50 + \"train查看缺失值\" + \"-\"*50)\n",
    "print(consumerTrain.isnull().sum().sort_values(ascending=False).head(10))\n",
    "print(\"-\"*50 + \"test查看缺失值\" + \"-\"*50)\n",
    "print(consumerTest.isnull().sum().sort_values(ascending=False).head(10))\n"
   ]
  },
  {
   "cell_type": "code",
   "execution_count": 2,
   "metadata": {},
   "outputs": [],
   "source": [
    "consumerTrain[\"次数\"] = consumerTrain[\"当月网购类应用使用次数\"]+consumerTrain[\"当月物流快递类应用使用次数\"]+consumerTrain[\"当月金融理财类应用使用总次数\"]+consumerTrain[\"当月视频播放类应用使用次数\"]+consumerTrain[\"当月飞机类应用使用次数\"]+consumerTrain[\"当月火车类应用使用次数\"]+consumerTrain[\"当月旅游资讯类应用使用次数\"]\n",
    "consumerTest[\"次数\"] = consumerTest[\"当月网购类应用使用次数\"]+consumerTest[\"当月物流快递类应用使用次数\"]+consumerTest[\"当月金融理财类应用使用总次数\"]+consumerTest[\"当月视频播放类应用使用次数\"]+consumerTest[\"当月飞机类应用使用次数\"]+consumerTest[\"当月火车类应用使用次数\"]+consumerTest[\"当月旅游资讯类应用使用次数\"]\n",
    "            \n",
    "consumerTrain[\"火车飞机类应用使用次数\"] = consumerTrain[\"当月飞机类应用使用次数\"]+consumerTrain[\"当月火车类应用使用次数\"]\n",
    "consumerTest[\"火车飞机类应用使用次数\"] = consumerTest[\"当月飞机类应用使用次数\"]+consumerTest[\"当月火车类应用使用次数\"]\n"
   ]
  },
  {
   "cell_type": "code",
   "execution_count": 3,
   "metadata": {},
   "outputs": [],
   "source": [
    "consumerTrain[\"是否不良\"] = consumerTrain[\"是否黑名单客户\"]+consumerTrain[\"是否4G不健康客户\"]\n",
    "consumerTest[\"是否不良\"] = consumerTest[\"是否黑名单客户\"]+consumerTest[\"是否4G不健康客户\"]\n",
    "\n",
    "consumerTrain[\"是否不良\"][consumerTrain[\"是否不良\"]>1] = 1\n",
    "consumerTest[\"是否不良\"][consumerTest[\"是否不良\"]>1] = 1"
   ]
  },
  {
   "cell_type": "code",
   "execution_count": 4,
   "metadata": {},
   "outputs": [],
   "source": [
    "from sklearn.model_selection import train_test_split\n",
    "from sklearn.ensemble import AdaBoostRegressor\n",
    "from sklearn import model_selection\n",
    "\n",
    "x = consumerTrain.drop([\"信用分\",\"用户编码\"],axis=1)\n",
    "y = consumerTrain.信用分\n",
    "x_train,x_test, y_train,y_test = train_test_split(x,y,test_size=0.2, random_state=10)\n"
   ]
  },
  {
   "cell_type": "code",
   "execution_count": 5,
   "metadata": {},
   "outputs": [
    {
     "name": "stdout",
     "output_type": "stream",
     "text": [
      "fitting\n",
      "Fitting 3 folds for each of 1 candidates, totalling 3 fits\n"
     ]
    },
    {
     "name": "stderr",
     "output_type": "stream",
     "text": [
      "[Parallel(n_jobs=5)]: Using backend LokyBackend with 5 concurrent workers.\n"
     ]
    },
    {
     "ename": "TerminatedWorkerError",
     "evalue": "A worker process managed by the executor was unexpectedly terminated. This could be caused by a segmentation fault while calling the function or by an excessive memory usage causing the Operating System to kill the worker.",
     "output_type": "error",
     "traceback": [
      "\u001b[1;31m---------------------------------------------------------------------------\u001b[0m",
      "\u001b[1;31mTerminatedWorkerError\u001b[0m                     Traceback (most recent call last)",
      "\u001b[1;32m<ipython-input-5-9e6841c0b748>\u001b[0m in \u001b[0;36m<module>\u001b[1;34m\u001b[0m\n\u001b[0;32m     11\u001b[0m \u001b[0mclf_grid\u001b[0m \u001b[1;33m=\u001b[0m \u001b[0mmodel_selection\u001b[0m\u001b[1;33m.\u001b[0m\u001b[0mGridSearchCV\u001b[0m\u001b[1;33m(\u001b[0m\u001b[0mclf_est\u001b[0m\u001b[1;33m,\u001b[0m \u001b[0mclf_param_grid\u001b[0m\u001b[1;33m,\u001b[0m \u001b[0mn_jobs\u001b[0m\u001b[1;33m=\u001b[0m\u001b[1;36m5\u001b[0m\u001b[1;33m,\u001b[0m \u001b[0mcv\u001b[0m\u001b[1;33m=\u001b[0m\u001b[1;36m3\u001b[0m\u001b[1;33m,\u001b[0m \u001b[0mverbose\u001b[0m\u001b[1;33m=\u001b[0m\u001b[1;36m1\u001b[0m\u001b[1;33m)\u001b[0m\u001b[1;33m\u001b[0m\u001b[0m\n\u001b[0;32m     12\u001b[0m \u001b[0mprint\u001b[0m\u001b[1;33m(\u001b[0m\u001b[1;34m\"fitting\"\u001b[0m\u001b[1;33m)\u001b[0m\u001b[1;33m\u001b[0m\u001b[0m\n\u001b[1;32m---> 13\u001b[1;33m \u001b[0mclf_grid\u001b[0m\u001b[1;33m.\u001b[0m\u001b[0mfit\u001b[0m\u001b[1;33m(\u001b[0m\u001b[0mx_train\u001b[0m\u001b[1;33m,\u001b[0m \u001b[0my_train\u001b[0m\u001b[1;33m)\u001b[0m\u001b[1;33m\u001b[0m\u001b[0m\n\u001b[0m\u001b[0;32m     14\u001b[0m \u001b[1;33m\u001b[0m\u001b[0m\n\u001b[0;32m     15\u001b[0m \u001b[0mprint\u001b[0m\u001b[1;33m(\u001b[0m\u001b[1;34m'BestParams: '\u001b[0m \u001b[1;33m+\u001b[0m \u001b[0mstr\u001b[0m\u001b[1;33m(\u001b[0m\u001b[0mclf_grid\u001b[0m\u001b[1;33m.\u001b[0m\u001b[0mbest_params_\u001b[0m\u001b[1;33m)\u001b[0m\u001b[1;33m)\u001b[0m\u001b[1;33m\u001b[0m\u001b[0m\n",
      "\u001b[1;32mc:\\users\\dell\\appdata\\local\\programs\\python\\python36\\lib\\site-packages\\sklearn\\model_selection\\_search.py\u001b[0m in \u001b[0;36mfit\u001b[1;34m(self, X, y, groups, **fit_params)\u001b[0m\n\u001b[0;32m    720\u001b[0m                 \u001b[1;32mreturn\u001b[0m \u001b[0mresults_container\u001b[0m\u001b[1;33m[\u001b[0m\u001b[1;36m0\u001b[0m\u001b[1;33m]\u001b[0m\u001b[1;33m\u001b[0m\u001b[0m\n\u001b[0;32m    721\u001b[0m \u001b[1;33m\u001b[0m\u001b[0m\n\u001b[1;32m--> 722\u001b[1;33m             \u001b[0mself\u001b[0m\u001b[1;33m.\u001b[0m\u001b[0m_run_search\u001b[0m\u001b[1;33m(\u001b[0m\u001b[0mevaluate_candidates\u001b[0m\u001b[1;33m)\u001b[0m\u001b[1;33m\u001b[0m\u001b[0m\n\u001b[0m\u001b[0;32m    723\u001b[0m \u001b[1;33m\u001b[0m\u001b[0m\n\u001b[0;32m    724\u001b[0m         \u001b[0mresults\u001b[0m \u001b[1;33m=\u001b[0m \u001b[0mresults_container\u001b[0m\u001b[1;33m[\u001b[0m\u001b[1;36m0\u001b[0m\u001b[1;33m]\u001b[0m\u001b[1;33m\u001b[0m\u001b[0m\n",
      "\u001b[1;32mc:\\users\\dell\\appdata\\local\\programs\\python\\python36\\lib\\site-packages\\sklearn\\model_selection\\_search.py\u001b[0m in \u001b[0;36m_run_search\u001b[1;34m(self, evaluate_candidates)\u001b[0m\n\u001b[0;32m   1189\u001b[0m     \u001b[1;32mdef\u001b[0m \u001b[0m_run_search\u001b[0m\u001b[1;33m(\u001b[0m\u001b[0mself\u001b[0m\u001b[1;33m,\u001b[0m \u001b[0mevaluate_candidates\u001b[0m\u001b[1;33m)\u001b[0m\u001b[1;33m:\u001b[0m\u001b[1;33m\u001b[0m\u001b[0m\n\u001b[0;32m   1190\u001b[0m         \u001b[1;34m\"\"\"Search all candidates in param_grid\"\"\"\u001b[0m\u001b[1;33m\u001b[0m\u001b[0m\n\u001b[1;32m-> 1191\u001b[1;33m         \u001b[0mevaluate_candidates\u001b[0m\u001b[1;33m(\u001b[0m\u001b[0mParameterGrid\u001b[0m\u001b[1;33m(\u001b[0m\u001b[0mself\u001b[0m\u001b[1;33m.\u001b[0m\u001b[0mparam_grid\u001b[0m\u001b[1;33m)\u001b[0m\u001b[1;33m)\u001b[0m\u001b[1;33m\u001b[0m\u001b[0m\n\u001b[0m\u001b[0;32m   1192\u001b[0m \u001b[1;33m\u001b[0m\u001b[0m\n\u001b[0;32m   1193\u001b[0m \u001b[1;33m\u001b[0m\u001b[0m\n",
      "\u001b[1;32mc:\\users\\dell\\appdata\\local\\programs\\python\\python36\\lib\\site-packages\\sklearn\\model_selection\\_search.py\u001b[0m in \u001b[0;36mevaluate_candidates\u001b[1;34m(candidate_params)\u001b[0m\n\u001b[0;32m    709\u001b[0m                                \u001b[1;32mfor\u001b[0m \u001b[0mparameters\u001b[0m\u001b[1;33m,\u001b[0m \u001b[1;33m(\u001b[0m\u001b[0mtrain\u001b[0m\u001b[1;33m,\u001b[0m \u001b[0mtest\u001b[0m\u001b[1;33m)\u001b[0m\u001b[1;33m\u001b[0m\u001b[0m\n\u001b[0;32m    710\u001b[0m                                in product(candidate_params,\n\u001b[1;32m--> 711\u001b[1;33m                                           cv.split(X, y, groups)))\n\u001b[0m\u001b[0;32m    712\u001b[0m \u001b[1;33m\u001b[0m\u001b[0m\n\u001b[0;32m    713\u001b[0m                 \u001b[0mall_candidate_params\u001b[0m\u001b[1;33m.\u001b[0m\u001b[0mextend\u001b[0m\u001b[1;33m(\u001b[0m\u001b[0mcandidate_params\u001b[0m\u001b[1;33m)\u001b[0m\u001b[1;33m\u001b[0m\u001b[0m\n",
      "\u001b[1;32mc:\\users\\dell\\appdata\\local\\programs\\python\\python36\\lib\\site-packages\\sklearn\\externals\\joblib\\parallel.py\u001b[0m in \u001b[0;36m__call__\u001b[1;34m(self, iterable)\u001b[0m\n\u001b[0;32m    928\u001b[0m \u001b[1;33m\u001b[0m\u001b[0m\n\u001b[0;32m    929\u001b[0m             \u001b[1;32mwith\u001b[0m \u001b[0mself\u001b[0m\u001b[1;33m.\u001b[0m\u001b[0m_backend\u001b[0m\u001b[1;33m.\u001b[0m\u001b[0mretrieval_context\u001b[0m\u001b[1;33m(\u001b[0m\u001b[1;33m)\u001b[0m\u001b[1;33m:\u001b[0m\u001b[1;33m\u001b[0m\u001b[0m\n\u001b[1;32m--> 930\u001b[1;33m                 \u001b[0mself\u001b[0m\u001b[1;33m.\u001b[0m\u001b[0mretrieve\u001b[0m\u001b[1;33m(\u001b[0m\u001b[1;33m)\u001b[0m\u001b[1;33m\u001b[0m\u001b[0m\n\u001b[0m\u001b[0;32m    931\u001b[0m             \u001b[1;31m# Make sure that we get a last message telling us we are done\u001b[0m\u001b[1;33m\u001b[0m\u001b[1;33m\u001b[0m\u001b[0m\n\u001b[0;32m    932\u001b[0m             \u001b[0melapsed_time\u001b[0m \u001b[1;33m=\u001b[0m \u001b[0mtime\u001b[0m\u001b[1;33m.\u001b[0m\u001b[0mtime\u001b[0m\u001b[1;33m(\u001b[0m\u001b[1;33m)\u001b[0m \u001b[1;33m-\u001b[0m \u001b[0mself\u001b[0m\u001b[1;33m.\u001b[0m\u001b[0m_start_time\u001b[0m\u001b[1;33m\u001b[0m\u001b[0m\n",
      "\u001b[1;32mc:\\users\\dell\\appdata\\local\\programs\\python\\python36\\lib\\site-packages\\sklearn\\externals\\joblib\\parallel.py\u001b[0m in \u001b[0;36mretrieve\u001b[1;34m(self)\u001b[0m\n\u001b[0;32m    831\u001b[0m             \u001b[1;32mtry\u001b[0m\u001b[1;33m:\u001b[0m\u001b[1;33m\u001b[0m\u001b[0m\n\u001b[0;32m    832\u001b[0m                 \u001b[1;32mif\u001b[0m \u001b[0mgetattr\u001b[0m\u001b[1;33m(\u001b[0m\u001b[0mself\u001b[0m\u001b[1;33m.\u001b[0m\u001b[0m_backend\u001b[0m\u001b[1;33m,\u001b[0m \u001b[1;34m'supports_timeout'\u001b[0m\u001b[1;33m,\u001b[0m \u001b[1;32mFalse\u001b[0m\u001b[1;33m)\u001b[0m\u001b[1;33m:\u001b[0m\u001b[1;33m\u001b[0m\u001b[0m\n\u001b[1;32m--> 833\u001b[1;33m                     \u001b[0mself\u001b[0m\u001b[1;33m.\u001b[0m\u001b[0m_output\u001b[0m\u001b[1;33m.\u001b[0m\u001b[0mextend\u001b[0m\u001b[1;33m(\u001b[0m\u001b[0mjob\u001b[0m\u001b[1;33m.\u001b[0m\u001b[0mget\u001b[0m\u001b[1;33m(\u001b[0m\u001b[0mtimeout\u001b[0m\u001b[1;33m=\u001b[0m\u001b[0mself\u001b[0m\u001b[1;33m.\u001b[0m\u001b[0mtimeout\u001b[0m\u001b[1;33m)\u001b[0m\u001b[1;33m)\u001b[0m\u001b[1;33m\u001b[0m\u001b[0m\n\u001b[0m\u001b[0;32m    834\u001b[0m                 \u001b[1;32melse\u001b[0m\u001b[1;33m:\u001b[0m\u001b[1;33m\u001b[0m\u001b[0m\n\u001b[0;32m    835\u001b[0m                     \u001b[0mself\u001b[0m\u001b[1;33m.\u001b[0m\u001b[0m_output\u001b[0m\u001b[1;33m.\u001b[0m\u001b[0mextend\u001b[0m\u001b[1;33m(\u001b[0m\u001b[0mjob\u001b[0m\u001b[1;33m.\u001b[0m\u001b[0mget\u001b[0m\u001b[1;33m(\u001b[0m\u001b[1;33m)\u001b[0m\u001b[1;33m)\u001b[0m\u001b[1;33m\u001b[0m\u001b[0m\n",
      "\u001b[1;32mc:\\users\\dell\\appdata\\local\\programs\\python\\python36\\lib\\site-packages\\sklearn\\externals\\joblib\\_parallel_backends.py\u001b[0m in \u001b[0;36mwrap_future_result\u001b[1;34m(future, timeout)\u001b[0m\n\u001b[0;32m    519\u001b[0m         AsyncResults.get from multiprocessing.\"\"\"\n\u001b[0;32m    520\u001b[0m         \u001b[1;32mtry\u001b[0m\u001b[1;33m:\u001b[0m\u001b[1;33m\u001b[0m\u001b[0m\n\u001b[1;32m--> 521\u001b[1;33m             \u001b[1;32mreturn\u001b[0m \u001b[0mfuture\u001b[0m\u001b[1;33m.\u001b[0m\u001b[0mresult\u001b[0m\u001b[1;33m(\u001b[0m\u001b[0mtimeout\u001b[0m\u001b[1;33m=\u001b[0m\u001b[0mtimeout\u001b[0m\u001b[1;33m)\u001b[0m\u001b[1;33m\u001b[0m\u001b[0m\n\u001b[0m\u001b[0;32m    522\u001b[0m         \u001b[1;32mexcept\u001b[0m \u001b[0mLokyTimeoutError\u001b[0m\u001b[1;33m:\u001b[0m\u001b[1;33m\u001b[0m\u001b[0m\n\u001b[0;32m    523\u001b[0m             \u001b[1;32mraise\u001b[0m \u001b[0mTimeoutError\u001b[0m\u001b[1;33m(\u001b[0m\u001b[1;33m)\u001b[0m\u001b[1;33m\u001b[0m\u001b[0m\n",
      "\u001b[1;32mc:\\users\\dell\\appdata\\local\\programs\\python\\python36\\lib\\concurrent\\futures\\_base.py\u001b[0m in \u001b[0;36mresult\u001b[1;34m(self, timeout)\u001b[0m\n\u001b[0;32m    430\u001b[0m                 \u001b[1;32mraise\u001b[0m \u001b[0mCancelledError\u001b[0m\u001b[1;33m(\u001b[0m\u001b[1;33m)\u001b[0m\u001b[1;33m\u001b[0m\u001b[0m\n\u001b[0;32m    431\u001b[0m             \u001b[1;32melif\u001b[0m \u001b[0mself\u001b[0m\u001b[1;33m.\u001b[0m\u001b[0m_state\u001b[0m \u001b[1;33m==\u001b[0m \u001b[0mFINISHED\u001b[0m\u001b[1;33m:\u001b[0m\u001b[1;33m\u001b[0m\u001b[0m\n\u001b[1;32m--> 432\u001b[1;33m                 \u001b[1;32mreturn\u001b[0m \u001b[0mself\u001b[0m\u001b[1;33m.\u001b[0m\u001b[0m__get_result\u001b[0m\u001b[1;33m(\u001b[0m\u001b[1;33m)\u001b[0m\u001b[1;33m\u001b[0m\u001b[0m\n\u001b[0m\u001b[0;32m    433\u001b[0m             \u001b[1;32melse\u001b[0m\u001b[1;33m:\u001b[0m\u001b[1;33m\u001b[0m\u001b[0m\n\u001b[0;32m    434\u001b[0m                 \u001b[1;32mraise\u001b[0m \u001b[0mTimeoutError\u001b[0m\u001b[1;33m(\u001b[0m\u001b[1;33m)\u001b[0m\u001b[1;33m\u001b[0m\u001b[0m\n",
      "\u001b[1;32mc:\\users\\dell\\appdata\\local\\programs\\python\\python36\\lib\\concurrent\\futures\\_base.py\u001b[0m in \u001b[0;36m__get_result\u001b[1;34m(self)\u001b[0m\n\u001b[0;32m    382\u001b[0m     \u001b[1;32mdef\u001b[0m \u001b[0m__get_result\u001b[0m\u001b[1;33m(\u001b[0m\u001b[0mself\u001b[0m\u001b[1;33m)\u001b[0m\u001b[1;33m:\u001b[0m\u001b[1;33m\u001b[0m\u001b[0m\n\u001b[0;32m    383\u001b[0m         \u001b[1;32mif\u001b[0m \u001b[0mself\u001b[0m\u001b[1;33m.\u001b[0m\u001b[0m_exception\u001b[0m\u001b[1;33m:\u001b[0m\u001b[1;33m\u001b[0m\u001b[0m\n\u001b[1;32m--> 384\u001b[1;33m             \u001b[1;32mraise\u001b[0m \u001b[0mself\u001b[0m\u001b[1;33m.\u001b[0m\u001b[0m_exception\u001b[0m\u001b[1;33m\u001b[0m\u001b[0m\n\u001b[0m\u001b[0;32m    385\u001b[0m         \u001b[1;32melse\u001b[0m\u001b[1;33m:\u001b[0m\u001b[1;33m\u001b[0m\u001b[0m\n\u001b[0;32m    386\u001b[0m             \u001b[1;32mreturn\u001b[0m \u001b[0mself\u001b[0m\u001b[1;33m.\u001b[0m\u001b[0m_result\u001b[0m\u001b[1;33m\u001b[0m\u001b[0m\n",
      "\u001b[1;31mTerminatedWorkerError\u001b[0m: A worker process managed by the executor was unexpectedly terminated. This could be caused by a segmentation fault while calling the function or by an excessive memory usage causing the Operating System to kill the worker."
     ]
    }
   ],
   "source": [
    "from catboost import CatBoostRegressor\n",
    "\n",
    "clf_est =CatBoostRegressor(random_seed=1314)\n",
    "# iterations=500,loss_function='RMSE',custom_metric='RMSE',eval_metric='RMSE',\n",
    "#                        leaf_estimation_method='Gradient',depth=10,learning_rate=0.20\n",
    "clf_param_grid = {'learning_rate':[0.1],\n",
    "                  'loss_function': ['MAE'],  \n",
    "                  'eval_metric': ['MAE'], \n",
    "                  'depth':[10]}\n",
    "clf_grid = model_selection.GridSearchCV(clf_est, clf_param_grid, n_jobs=5, cv=3, verbose=1)\n",
    "print(\"fitting\")\n",
    "clf_grid.fit(x_train, y_train)\n",
    "\n",
    "print('BestParams: ' + str(clf_grid.best_params_))"
   ]
  },
  {
   "cell_type": "code",
   "execution_count": null,
   "metadata": {},
   "outputs": [],
   "source": [
    "print('Training:')\n",
    "clf = CatBoostRegressor(\n",
    "                    learning_rate = clf_grid.best_estimator_.learning_rate_,\n",
    "                   loss_function = 'MAE',\n",
    "                   eval_metric = 'MAE',\n",
    "                   random_seed=1314)\n",
    "clf.fit(x_train, y_train)\n",
    "print('Training Finished')"
   ]
  },
  {
   "cell_type": "code",
   "execution_count": null,
   "metadata": {},
   "outputs": [],
   "source": [
    "\n",
    "predictions = clf.predict(consumerTest.astype(int))\n",
    "Submission = pd.DataFrame({'id': Id, \n",
    "                           'score': predictions})\n",
    "Submission[\"score\"] = Submission[\"score\"].astype(int)\n",
    "Submission.to_csv('SubmissionLightGBM.csv',index=False,sep=',')\n",
    "print(\"I LOVE YOUU\")\n",
    "\n",
    "print(\"评分：\")\n",
    "from sklearn.model_selection import cross_val_score\n",
    "\n",
    "scores = cross_val_score(clf,x_test,y_test)\n",
    "print(\"LGB: \",scores.mean())\n",
    "from sklearn import metrics\n",
    "\n",
    "y_pred_xgb = clf.predict(x_test)\n",
    "# 均方根误差\n",
    "MSE = metrics.mean_squared_error(y_test,y_pred_xgb)\n",
    "print(MSE)"
   ]
  },
  {
   "cell_type": "code",
   "execution_count": null,
   "metadata": {},
   "outputs": [],
   "source": [
    "print(1/(1+MSE))"
   ]
  },
  {
   "cell_type": "code",
   "execution_count": null,
   "metadata": {},
   "outputs": [],
   "source": []
  }
 ],
 "metadata": {
  "kernelspec": {
   "display_name": "Python 3",
   "language": "python",
   "name": "python3"
  },
  "language_info": {
   "codemirror_mode": {
    "name": "ipython",
    "version": 3
   },
   "file_extension": ".py",
   "mimetype": "text/x-python",
   "name": "python",
   "nbconvert_exporter": "python",
   "pygments_lexer": "ipython3",
   "version": "3.6.3"
  }
 },
 "nbformat": 4,
 "nbformat_minor": 2
}
