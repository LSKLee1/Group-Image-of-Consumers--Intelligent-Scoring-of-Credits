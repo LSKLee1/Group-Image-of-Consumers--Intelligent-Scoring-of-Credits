{
 "cells": [
  {
   "cell_type": "code",
   "execution_count": null,
   "metadata": {},
   "outputs": [],
   "source": [
    "# -*- coding: utf-8 -*\n",
    "# 可增加访问量的脚本\n",
    "import webbrowser as web    \n",
    "import time    \n",
    "import os    \n",
    " \n",
    "urllist=[\n",
    "#     'https://lskreno.vip',\n",
    "    'https://www.maimemo.com/share/page/?uid=4614251&pid=4e57f2abe04fa24c19b65b94ca5c0e12'\n",
    "#     'https://blog.csdn.net/weixin_41571493/article/details/87721872',\n",
    "#     'https://blog.csdn.net/weixin_41571493/article/details/82977078',\n",
    "#     'https://blog.csdn.net/weixin_41571493/article/details/80550076',\n",
    "#     'https://blog.csdn.net/weixin_41571493/article/details/82690052',\n",
    "#     'https://blog.csdn.net/weixin_41571493/article/details/84035939',\n",
    "#     'https://blog.csdn.net/weixin_41571493/article/details/83243458',\n",
    "#     'https://blog.csdn.net/weixin_41571493/article/details/82467182',\n",
    "#     'https://blog.csdn.net/weixin_41571493/article/details/81875088',\n",
    "#     'https://blog.csdn.net/weixin_41571493/article/details/80938764',\n",
    "#     'https://blog.csdn.net/weixin_41571493/article/details/80549833', \n",
    "#     'https://blog.csdn.net/weixin_41571493/article/details/88226942',\n",
    "#     'https://blog.csdn.net/weixin_41571493/article/details/81415327'\n",
    "\n",
    "    \n",
    "    \n",
    "]\n",
    " \n",
    "for j in range(0,100000):#设置循环的总次数   \n",
    "    i=0    \n",
    "    while i<1 :  #一次打开浏览器访问的循环次数 \n",
    "        for url in urllist:\n",
    "            web.open(url)  #访问网址地址，语法 .open(url,new=0,Autorasise=True),设置 new 的值不同有不同的效果0、1、2  \n",
    "            i=i+1    \n",
    "            time.sleep(2)  #设置每次打开新页面的等待时间\n",
    "    else: \n",
    " \n",
    "        time.sleep(5) #设置每次等待关闭浏览器的时间  \n",
    "        os.system('taskkill /IM chrome.exe')  #你设置的默认使用浏览器，其他的更换下就行\n"
   ]
  },
  {
   "cell_type": "code",
   "execution_count": null,
   "metadata": {},
   "outputs": [],
   "source": []
  }
 ],
 "metadata": {
  "kernelspec": {
   "display_name": "Python 3",
   "language": "python",
   "name": "python3"
  },
  "language_info": {
   "codemirror_mode": {
    "name": "ipython",
    "version": 3
   },
   "file_extension": ".py",
   "mimetype": "text/x-python",
   "name": "python",
   "nbconvert_exporter": "python",
   "pygments_lexer": "ipython3",
   "version": "3.6.3"
  }
 },
 "nbformat": 4,
 "nbformat_minor": 2
}
